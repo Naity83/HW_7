{
  "nbformat": 4,
  "nbformat_minor": 0,
  "metadata": {
    "colab": {
      "provenance": []
    },
    "kernelspec": {
      "name": "python3",
      "display_name": "Python 3"
    },
    "language_info": {
      "name": "python"
    }
  },
  "cells": [
    {
      "cell_type": "code",
      "execution_count": 1,
      "metadata": {
        "colab": {
          "base_uri": "https://localhost:8080/"
        },
        "id": "W3bRfMeMFzlw",
        "outputId": "7edf7f32-ced0-4750-93fd-15c4806ebbb9"
      },
      "outputs": [
        {
          "output_type": "stream",
          "name": "stdout",
          "text": [
            "Collecting surprise\n",
            "  Downloading surprise-0.1-py2.py3-none-any.whl.metadata (327 bytes)\n",
            "Collecting scikit-surprise (from surprise)\n",
            "  Downloading scikit_surprise-1.1.4.tar.gz (154 kB)\n",
            "\u001b[2K     \u001b[90m━━━━━━━━━━━━━━━━━━━━━━━━━━━━━━━━━━━━━━━━\u001b[0m \u001b[32m154.4/154.4 kB\u001b[0m \u001b[31m1.1 MB/s\u001b[0m eta \u001b[36m0:00:00\u001b[0m\n",
            "\u001b[?25h  Installing build dependencies ... \u001b[?25l\u001b[?25hdone\n",
            "  Getting requirements to build wheel ... \u001b[?25l\u001b[?25hdone\n",
            "  Preparing metadata (pyproject.toml) ... \u001b[?25l\u001b[?25hdone\n",
            "Requirement already satisfied: joblib>=1.2.0 in /usr/local/lib/python3.10/dist-packages (from scikit-surprise->surprise) (1.4.2)\n",
            "Requirement already satisfied: numpy>=1.19.5 in /usr/local/lib/python3.10/dist-packages (from scikit-surprise->surprise) (1.26.4)\n",
            "Requirement already satisfied: scipy>=1.6.0 in /usr/local/lib/python3.10/dist-packages (from scikit-surprise->surprise) (1.13.1)\n",
            "Downloading surprise-0.1-py2.py3-none-any.whl (1.8 kB)\n",
            "Building wheels for collected packages: scikit-surprise\n",
            "  Building wheel for scikit-surprise (pyproject.toml) ... \u001b[?25l\u001b[?25hdone\n",
            "  Created wheel for scikit-surprise: filename=scikit_surprise-1.1.4-cp310-cp310-linux_x86_64.whl size=2357280 sha256=ca2da444e642cc5df2234f778a681094b9c2d6f8c199a565b358b124beb7e141\n",
            "  Stored in directory: /root/.cache/pip/wheels/4b/3f/df/6acbf0a40397d9bf3ff97f582cc22fb9ce66adde75bc71fd54\n",
            "Successfully built scikit-surprise\n",
            "Installing collected packages: scikit-surprise, surprise\n",
            "Successfully installed scikit-surprise-1.1.4 surprise-0.1\n"
          ]
        }
      ],
      "source": [
        "!pip install surprise\n"
      ]
    },
    {
      "cell_type": "code",
      "source": [
        "import pandas as pd\n",
        "import numpy as np\n",
        "from surprise import accuracy, SVD, NMF, SVDpp, Dataset\n",
        "from surprise.model_selection import train_test_split, cross_validate"
      ],
      "metadata": {
        "id": "jqbV1vYOOZ2M"
      },
      "execution_count": 2,
      "outputs": []
    },
    {
      "cell_type": "code",
      "source": [
        "data = Dataset.load_builtin(name = 'ml-100k', prompt=True)\n",
        "data"
      ],
      "metadata": {
        "colab": {
          "base_uri": "https://localhost:8080/"
        },
        "id": "RysCDOOmOjGT",
        "outputId": "5e9bb1ad-be0d-4cc1-e8f3-e0797818a484"
      },
      "execution_count": 4,
      "outputs": [
        {
          "output_type": "execute_result",
          "data": {
            "text/plain": [
              "<surprise.dataset.DatasetAutoFolds at 0x7dc7134fa410>"
            ]
          },
          "metadata": {},
          "execution_count": 4
        }
      ]
    },
    {
      "cell_type": "code",
      "source": [
        "algorithms = [SVD(), SVDpp(), NMF()]"
      ],
      "metadata": {
        "id": "iqNstzcnO5Ok"
      },
      "execution_count": 5,
      "outputs": []
    },
    {
      "cell_type": "markdown",
      "source": [
        "# SVD алгоритм"
      ],
      "metadata": {
        "id": "_8HcIJM8PJ3A"
      }
    },
    {
      "cell_type": "code",
      "source": [
        "SVD_result = cross_validate(algorithms[0], data, measures=['RMSE', 'MAE'], cv=5, verbose=True)\n",
        "SVD_result = pd.DataFrame.from_dict(SVD_result).mean(axis=0)\n"
      ],
      "metadata": {
        "colab": {
          "base_uri": "https://localhost:8080/"
        },
        "id": "63qvzkV1POLF",
        "outputId": "6a58d564-35a6-496b-90d9-6b13229ea986"
      },
      "execution_count": 6,
      "outputs": [
        {
          "output_type": "stream",
          "name": "stdout",
          "text": [
            "Evaluating RMSE, MAE of algorithm SVD on 5 split(s).\n",
            "\n",
            "                  Fold 1  Fold 2  Fold 3  Fold 4  Fold 5  Mean    Std     \n",
            "RMSE (testset)    0.9352  0.9353  0.9280  0.9379  0.9423  0.9358  0.0046  \n",
            "MAE (testset)     0.7376  0.7368  0.7322  0.7371  0.7435  0.7374  0.0036  \n",
            "Fit time          1.44    1.43    1.44    1.48    1.60    1.48    0.06    \n",
            "Test time         0.16    0.26    0.14    0.22    0.22    0.20    0.04    \n"
          ]
        }
      ]
    },
    {
      "cell_type": "markdown",
      "source": [
        "# SVDpp алгоритм"
      ],
      "metadata": {
        "id": "9TqtUShCa55P"
      }
    },
    {
      "cell_type": "code",
      "source": [
        "SVDpp_result = cross_validate(algorithms[1], data, measures=['RMSE', 'MAE'], cv=5, verbose=True)\n",
        "SVDpp_result = pd.DataFrame.from_dict(SVDpp_result).mean(axis=0)"
      ],
      "metadata": {
        "colab": {
          "base_uri": "https://localhost:8080/"
        },
        "id": "NaP4u4Rma9BP",
        "outputId": "ee910cdd-24f6-4f2c-8786-4c5da6cc5df0"
      },
      "execution_count": 7,
      "outputs": [
        {
          "output_type": "stream",
          "name": "stdout",
          "text": [
            "Evaluating RMSE, MAE of algorithm SVDpp on 5 split(s).\n",
            "\n",
            "                  Fold 1  Fold 2  Fold 3  Fold 4  Fold 5  Mean    Std     \n",
            "RMSE (testset)    0.9196  0.9290  0.9102  0.9251  0.9097  0.9187  0.0078  \n",
            "MAE (testset)     0.7222  0.7254  0.7123  0.7279  0.7123  0.7200  0.0066  \n",
            "Fit time          28.52   27.52   27.60   27.13   27.30   27.61   0.48    \n",
            "Test time         4.59    5.21    4.58    5.52    4.58    4.89    0.40    \n"
          ]
        }
      ]
    },
    {
      "cell_type": "markdown",
      "source": [
        "# NMF алгоритм"
      ],
      "metadata": {
        "id": "bSlOrggUb3aN"
      }
    },
    {
      "cell_type": "code",
      "source": [
        "NMF_result = cross_validate(algorithms[2], data, measures=['RMSE', 'MAE'], cv=5, verbose=True)\n",
        "NMF_result = pd.DataFrame.from_dict(NMF_result).mean(axis=0)"
      ],
      "metadata": {
        "colab": {
          "base_uri": "https://localhost:8080/"
        },
        "id": "mgxJ61-Kb86J",
        "outputId": "fbc9c3bf-42a4-41a6-f9bf-96f99e4d080a"
      },
      "execution_count": 8,
      "outputs": [
        {
          "output_type": "stream",
          "name": "stdout",
          "text": [
            "Evaluating RMSE, MAE of algorithm NMF on 5 split(s).\n",
            "\n",
            "                  Fold 1  Fold 2  Fold 3  Fold 4  Fold 5  Mean    Std     \n",
            "RMSE (testset)    0.9564  0.9553  0.9642  0.9639  0.9639  0.9607  0.0040  \n",
            "MAE (testset)     0.7506  0.7537  0.7552  0.7591  0.7566  0.7550  0.0028  \n",
            "Fit time          2.31    2.35    2.62    2.67    2.31    2.45    0.16    \n",
            "Test time         0.11    0.12    0.34    0.12    0.23    0.18    0.09    \n"
          ]
        }
      ]
    },
    {
      "cell_type": "markdown",
      "source": [
        " Створимо DataFrame для зберігання результатів трьох різних алгоритмів (SVD, SVDpp, NMF) і заповнимо його середніми значеннями метрик для кожного з них."
      ],
      "metadata": {
        "id": "ZmIt68k2cbqQ"
      }
    },
    {
      "cell_type": "code",
      "source": [
        "algorithms_result = pd.DataFrame(columns=['SVD', 'SVDpp', 'NMF'])\n",
        "algorithms_result['SVD'] = SVD_result\n",
        "algorithms_result['SVDpp'] = SVDpp_result\n",
        "algorithms_result['NMF'] = NMF_result\n",
        "algorithms_result"
      ],
      "metadata": {
        "colab": {
          "base_uri": "https://localhost:8080/",
          "height": 175
        },
        "id": "B4G8MrwFcgfD",
        "outputId": "b31d29a2-133b-41ea-f52c-86c13f64c167"
      },
      "execution_count": 9,
      "outputs": [
        {
          "output_type": "execute_result",
          "data": {
            "text/plain": [
              "                SVD      SVDpp       NMF\n",
              "test_rmse  0.935753   0.918696  0.960735\n",
              "test_mae   0.737431   0.720014  0.755028\n",
              "fit_time   1.479430  27.612009  2.450104\n",
              "test_time  0.198133   4.894731  0.182528"
            ],
            "text/html": [
              "\n",
              "  <div id=\"df-69c42c32-76c2-47d2-8c4a-e37a835f28ba\" class=\"colab-df-container\">\n",
              "    <div>\n",
              "<style scoped>\n",
              "    .dataframe tbody tr th:only-of-type {\n",
              "        vertical-align: middle;\n",
              "    }\n",
              "\n",
              "    .dataframe tbody tr th {\n",
              "        vertical-align: top;\n",
              "    }\n",
              "\n",
              "    .dataframe thead th {\n",
              "        text-align: right;\n",
              "    }\n",
              "</style>\n",
              "<table border=\"1\" class=\"dataframe\">\n",
              "  <thead>\n",
              "    <tr style=\"text-align: right;\">\n",
              "      <th></th>\n",
              "      <th>SVD</th>\n",
              "      <th>SVDpp</th>\n",
              "      <th>NMF</th>\n",
              "    </tr>\n",
              "  </thead>\n",
              "  <tbody>\n",
              "    <tr>\n",
              "      <th>test_rmse</th>\n",
              "      <td>0.935753</td>\n",
              "      <td>0.918696</td>\n",
              "      <td>0.960735</td>\n",
              "    </tr>\n",
              "    <tr>\n",
              "      <th>test_mae</th>\n",
              "      <td>0.737431</td>\n",
              "      <td>0.720014</td>\n",
              "      <td>0.755028</td>\n",
              "    </tr>\n",
              "    <tr>\n",
              "      <th>fit_time</th>\n",
              "      <td>1.479430</td>\n",
              "      <td>27.612009</td>\n",
              "      <td>2.450104</td>\n",
              "    </tr>\n",
              "    <tr>\n",
              "      <th>test_time</th>\n",
              "      <td>0.198133</td>\n",
              "      <td>4.894731</td>\n",
              "      <td>0.182528</td>\n",
              "    </tr>\n",
              "  </tbody>\n",
              "</table>\n",
              "</div>\n",
              "    <div class=\"colab-df-buttons\">\n",
              "\n",
              "  <div class=\"colab-df-container\">\n",
              "    <button class=\"colab-df-convert\" onclick=\"convertToInteractive('df-69c42c32-76c2-47d2-8c4a-e37a835f28ba')\"\n",
              "            title=\"Convert this dataframe to an interactive table.\"\n",
              "            style=\"display:none;\">\n",
              "\n",
              "  <svg xmlns=\"http://www.w3.org/2000/svg\" height=\"24px\" viewBox=\"0 -960 960 960\">\n",
              "    <path d=\"M120-120v-720h720v720H120Zm60-500h600v-160H180v160Zm220 220h160v-160H400v160Zm0 220h160v-160H400v160ZM180-400h160v-160H180v160Zm440 0h160v-160H620v160ZM180-180h160v-160H180v160Zm440 0h160v-160H620v160Z\"/>\n",
              "  </svg>\n",
              "    </button>\n",
              "\n",
              "  <style>\n",
              "    .colab-df-container {\n",
              "      display:flex;\n",
              "      gap: 12px;\n",
              "    }\n",
              "\n",
              "    .colab-df-convert {\n",
              "      background-color: #E8F0FE;\n",
              "      border: none;\n",
              "      border-radius: 50%;\n",
              "      cursor: pointer;\n",
              "      display: none;\n",
              "      fill: #1967D2;\n",
              "      height: 32px;\n",
              "      padding: 0 0 0 0;\n",
              "      width: 32px;\n",
              "    }\n",
              "\n",
              "    .colab-df-convert:hover {\n",
              "      background-color: #E2EBFA;\n",
              "      box-shadow: 0px 1px 2px rgba(60, 64, 67, 0.3), 0px 1px 3px 1px rgba(60, 64, 67, 0.15);\n",
              "      fill: #174EA6;\n",
              "    }\n",
              "\n",
              "    .colab-df-buttons div {\n",
              "      margin-bottom: 4px;\n",
              "    }\n",
              "\n",
              "    [theme=dark] .colab-df-convert {\n",
              "      background-color: #3B4455;\n",
              "      fill: #D2E3FC;\n",
              "    }\n",
              "\n",
              "    [theme=dark] .colab-df-convert:hover {\n",
              "      background-color: #434B5C;\n",
              "      box-shadow: 0px 1px 3px 1px rgba(0, 0, 0, 0.15);\n",
              "      filter: drop-shadow(0px 1px 2px rgba(0, 0, 0, 0.3));\n",
              "      fill: #FFFFFF;\n",
              "    }\n",
              "  </style>\n",
              "\n",
              "    <script>\n",
              "      const buttonEl =\n",
              "        document.querySelector('#df-69c42c32-76c2-47d2-8c4a-e37a835f28ba button.colab-df-convert');\n",
              "      buttonEl.style.display =\n",
              "        google.colab.kernel.accessAllowed ? 'block' : 'none';\n",
              "\n",
              "      async function convertToInteractive(key) {\n",
              "        const element = document.querySelector('#df-69c42c32-76c2-47d2-8c4a-e37a835f28ba');\n",
              "        const dataTable =\n",
              "          await google.colab.kernel.invokeFunction('convertToInteractive',\n",
              "                                                    [key], {});\n",
              "        if (!dataTable) return;\n",
              "\n",
              "        const docLinkHtml = 'Like what you see? Visit the ' +\n",
              "          '<a target=\"_blank\" href=https://colab.research.google.com/notebooks/data_table.ipynb>data table notebook</a>'\n",
              "          + ' to learn more about interactive tables.';\n",
              "        element.innerHTML = '';\n",
              "        dataTable['output_type'] = 'display_data';\n",
              "        await google.colab.output.renderOutput(dataTable, element);\n",
              "        const docLink = document.createElement('div');\n",
              "        docLink.innerHTML = docLinkHtml;\n",
              "        element.appendChild(docLink);\n",
              "      }\n",
              "    </script>\n",
              "  </div>\n",
              "\n",
              "\n",
              "<div id=\"df-a67f5121-bcba-4b99-96c6-3cb06af6d4dc\">\n",
              "  <button class=\"colab-df-quickchart\" onclick=\"quickchart('df-a67f5121-bcba-4b99-96c6-3cb06af6d4dc')\"\n",
              "            title=\"Suggest charts\"\n",
              "            style=\"display:none;\">\n",
              "\n",
              "<svg xmlns=\"http://www.w3.org/2000/svg\" height=\"24px\"viewBox=\"0 0 24 24\"\n",
              "     width=\"24px\">\n",
              "    <g>\n",
              "        <path d=\"M19 3H5c-1.1 0-2 .9-2 2v14c0 1.1.9 2 2 2h14c1.1 0 2-.9 2-2V5c0-1.1-.9-2-2-2zM9 17H7v-7h2v7zm4 0h-2V7h2v10zm4 0h-2v-4h2v4z\"/>\n",
              "    </g>\n",
              "</svg>\n",
              "  </button>\n",
              "\n",
              "<style>\n",
              "  .colab-df-quickchart {\n",
              "      --bg-color: #E8F0FE;\n",
              "      --fill-color: #1967D2;\n",
              "      --hover-bg-color: #E2EBFA;\n",
              "      --hover-fill-color: #174EA6;\n",
              "      --disabled-fill-color: #AAA;\n",
              "      --disabled-bg-color: #DDD;\n",
              "  }\n",
              "\n",
              "  [theme=dark] .colab-df-quickchart {\n",
              "      --bg-color: #3B4455;\n",
              "      --fill-color: #D2E3FC;\n",
              "      --hover-bg-color: #434B5C;\n",
              "      --hover-fill-color: #FFFFFF;\n",
              "      --disabled-bg-color: #3B4455;\n",
              "      --disabled-fill-color: #666;\n",
              "  }\n",
              "\n",
              "  .colab-df-quickchart {\n",
              "    background-color: var(--bg-color);\n",
              "    border: none;\n",
              "    border-radius: 50%;\n",
              "    cursor: pointer;\n",
              "    display: none;\n",
              "    fill: var(--fill-color);\n",
              "    height: 32px;\n",
              "    padding: 0;\n",
              "    width: 32px;\n",
              "  }\n",
              "\n",
              "  .colab-df-quickchart:hover {\n",
              "    background-color: var(--hover-bg-color);\n",
              "    box-shadow: 0 1px 2px rgba(60, 64, 67, 0.3), 0 1px 3px 1px rgba(60, 64, 67, 0.15);\n",
              "    fill: var(--button-hover-fill-color);\n",
              "  }\n",
              "\n",
              "  .colab-df-quickchart-complete:disabled,\n",
              "  .colab-df-quickchart-complete:disabled:hover {\n",
              "    background-color: var(--disabled-bg-color);\n",
              "    fill: var(--disabled-fill-color);\n",
              "    box-shadow: none;\n",
              "  }\n",
              "\n",
              "  .colab-df-spinner {\n",
              "    border: 2px solid var(--fill-color);\n",
              "    border-color: transparent;\n",
              "    border-bottom-color: var(--fill-color);\n",
              "    animation:\n",
              "      spin 1s steps(1) infinite;\n",
              "  }\n",
              "\n",
              "  @keyframes spin {\n",
              "    0% {\n",
              "      border-color: transparent;\n",
              "      border-bottom-color: var(--fill-color);\n",
              "      border-left-color: var(--fill-color);\n",
              "    }\n",
              "    20% {\n",
              "      border-color: transparent;\n",
              "      border-left-color: var(--fill-color);\n",
              "      border-top-color: var(--fill-color);\n",
              "    }\n",
              "    30% {\n",
              "      border-color: transparent;\n",
              "      border-left-color: var(--fill-color);\n",
              "      border-top-color: var(--fill-color);\n",
              "      border-right-color: var(--fill-color);\n",
              "    }\n",
              "    40% {\n",
              "      border-color: transparent;\n",
              "      border-right-color: var(--fill-color);\n",
              "      border-top-color: var(--fill-color);\n",
              "    }\n",
              "    60% {\n",
              "      border-color: transparent;\n",
              "      border-right-color: var(--fill-color);\n",
              "    }\n",
              "    80% {\n",
              "      border-color: transparent;\n",
              "      border-right-color: var(--fill-color);\n",
              "      border-bottom-color: var(--fill-color);\n",
              "    }\n",
              "    90% {\n",
              "      border-color: transparent;\n",
              "      border-bottom-color: var(--fill-color);\n",
              "    }\n",
              "  }\n",
              "</style>\n",
              "\n",
              "  <script>\n",
              "    async function quickchart(key) {\n",
              "      const quickchartButtonEl =\n",
              "        document.querySelector('#' + key + ' button');\n",
              "      quickchartButtonEl.disabled = true;  // To prevent multiple clicks.\n",
              "      quickchartButtonEl.classList.add('colab-df-spinner');\n",
              "      try {\n",
              "        const charts = await google.colab.kernel.invokeFunction(\n",
              "            'suggestCharts', [key], {});\n",
              "      } catch (error) {\n",
              "        console.error('Error during call to suggestCharts:', error);\n",
              "      }\n",
              "      quickchartButtonEl.classList.remove('colab-df-spinner');\n",
              "      quickchartButtonEl.classList.add('colab-df-quickchart-complete');\n",
              "    }\n",
              "    (() => {\n",
              "      let quickchartButtonEl =\n",
              "        document.querySelector('#df-a67f5121-bcba-4b99-96c6-3cb06af6d4dc button');\n",
              "      quickchartButtonEl.style.display =\n",
              "        google.colab.kernel.accessAllowed ? 'block' : 'none';\n",
              "    })();\n",
              "  </script>\n",
              "</div>\n",
              "    </div>\n",
              "  </div>\n"
            ],
            "application/vnd.google.colaboratory.intrinsic+json": {
              "type": "dataframe",
              "variable_name": "algorithms_result",
              "summary": "{\n  \"name\": \"algorithms_result\",\n  \"rows\": 4,\n  \"fields\": [\n    {\n      \"column\": \"SVD\",\n      \"properties\": {\n        \"dtype\": \"number\",\n        \"std\": 0.5293178090556269,\n        \"min\": 0.19813318252563478,\n        \"max\": 1.4794304847717286,\n        \"num_unique_values\": 4,\n        \"samples\": [\n          0.7374307454671335,\n          0.19813318252563478,\n          0.9357529302943716\n        ],\n        \"semantic_type\": \"\",\n        \"description\": \"\"\n      }\n    },\n    {\n      \"column\": \"SVDpp\",\n      \"properties\": {\n        \"dtype\": \"number\",\n        \"std\": 12.861647428035496,\n        \"min\": 0.720014171843766,\n        \"max\": 27.612009382247926,\n        \"num_unique_values\": 4,\n        \"samples\": [\n          0.720014171843766,\n          4.8947309970855715,\n          0.9186962876373272\n        ],\n        \"semantic_type\": \"\",\n        \"description\": \"\"\n      }\n    },\n    {\n      \"column\": \"NMF\",\n      \"properties\": {\n        \"dtype\": \"number\",\n        \"std\": 0.9664835323414467,\n        \"min\": 0.18252782821655272,\n        \"max\": 2.450104331970215,\n        \"num_unique_values\": 4,\n        \"samples\": [\n          0.7550282563589337,\n          0.18252782821655272,\n          0.9607354915081998\n        ],\n        \"semantic_type\": \"\",\n        \"description\": \"\"\n      }\n    }\n  ]\n}"
            }
          },
          "metadata": {},
          "execution_count": 9
        }
      ]
    },
    {
      "cell_type": "markdown",
      "source": [
        "Подивимось на графіки і зробимо висновки"
      ],
      "metadata": {
        "id": "nqjYWzyPdN4I"
      }
    },
    {
      "cell_type": "code",
      "source": [
        "import matplotlib.pyplot as plt\n",
        "import numpy as np\n",
        "\n",
        "# Настройка фигуры\n",
        "plt.figure(figsize=(10, 6))\n",
        "\n",
        "# Подготовка данных для графика\n",
        "x = np.arange(len(algorithms_result.columns))  # Создаём массив значений для оси X\n",
        "\n",
        "# Построение столбчатых диаграмм для RMSE и MAE\n",
        "plt.bar(x - 0.15, algorithms_result.iloc[0], width=0.3, label='RMSE')\n",
        "plt.bar(x + 0.15, algorithms_result.iloc[1], width=0.3, label='MAE')\n",
        "\n",
        "# Добавление текстовых меток на столбцы\n",
        "for index, value in enumerate(algorithms_result.iloc[0]):\n",
        "    plt.text(index - 0.15, value, str(round(value, 3)), ha='center', va='bottom')\n",
        "\n",
        "for index, value in enumerate(algorithms_result.iloc[1]):\n",
        "    plt.text(index + 0.15, value, str(round(value, 3)), ha='center', va='bottom')\n",
        "\n",
        "# Добавление сетки, легенды и заголовка\n",
        "plt.grid(True)\n",
        "plt.legend()\n",
        "\n",
        "# Добавление меток для оси X\n",
        "plt.xticks(x, algorithms_result.columns)\n",
        "\n",
        "plt.title('Comparison of RMSE and MAE values')\n",
        "plt.xlabel('Algorithms')\n",
        "plt.ylabel('Metric Values')\n",
        "plt.show()\n"
      ],
      "metadata": {
        "colab": {
          "base_uri": "https://localhost:8080/",
          "height": 564
        },
        "id": "ER1ZWZnddS2p",
        "outputId": "1e4e6434-0215-4a37-c407-cd47bdcbb5f7"
      },
      "execution_count": 10,
      "outputs": [
        {
          "output_type": "display_data",
          "data": {
            "text/plain": [
              "<Figure size 1000x600 with 1 Axes>"
            ],
            "image/png": "[encoded data removed]"
          },
          "metadata": {}
        }
      ]
    },
    {
      "cell_type": "code",
      "source": [
        "train_data, test_data = train_test_split(data, test_size=0.25)\n",
        "\n",
        "svd_train = algorithms[0].fit(train_data)\n",
        "svdpp_train = algorithms[1].fit(train_data)\n",
        "nmf_train = algorithms[2].fit(train_data)"
      ],
      "metadata": {
        "id": "MEqqYsAddehC"
      },
      "execution_count": 11,
      "outputs": []
    },
    {
      "cell_type": "code",
      "source": [
        "svd_predict = svd_train.test(test_data)\n",
        "svdpp_predict = svdpp_train.test(test_data)\n",
        "nmf_predict = nmf_train.test(test_data)"
      ],
      "metadata": {
        "id": "ghLSI-Tvdoqm"
      },
      "execution_count": 12,
      "outputs": []
    },
    {
      "cell_type": "code",
      "source": [
        "svd_rmse = accuracy.rmse(svd_predict)\n",
        "svdpp_rmse = accuracy.rmse(svdpp_predict)\n",
        "nmf_rmse = accuracy.rmse(nmf_predict)\n",
        "print(f'SVD RMSE: {svd_rmse}')\n",
        "print(f'SVDpp RMSE: {svdpp_rmse}')\n",
        "print(f'NMF RMSE: {nmf_rmse}')"
      ],
      "metadata": {
        "colab": {
          "base_uri": "https://localhost:8080/"
        },
        "id": "nHyYSgDEdv0R",
        "outputId": "a3959164-2e62-40cd-98c6-6ae6922e1bbe"
      },
      "execution_count": 13,
      "outputs": [
        {
          "output_type": "stream",
          "name": "stdout",
          "text": [
            "RMSE: 0.9369\n",
            "RMSE: 0.9200\n",
            "RMSE: 0.9651\n",
            "SVD RMSE: 0.9368751556297655\n",
            "SVDpp RMSE: 0.9199886670795409\n",
            "NMF RMSE: 0.9651355375028489\n"
          ]
        }
      ]
    },
    {
      "cell_type": "markdown",
      "source": [
        "Як можна побачити з отриманих результатів алгоритм NMF показує кращу ефективність порівняно з SVD і SVDpp з бібліотеки surprise для даного датасету movielens"
      ],
      "metadata": {
        "id": "MOG50I2yd31U"
      }
    }
  ]
}